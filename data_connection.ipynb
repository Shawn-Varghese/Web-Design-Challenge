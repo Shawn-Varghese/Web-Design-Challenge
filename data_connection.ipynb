{
 "cells": [
  {
   "cell_type": "code",
   "execution_count": 1,
   "id": "1676fc8b",
   "metadata": {},
   "outputs": [],
   "source": [
    "#Imports\n",
    "import os\n",
    "import pandas as pd"
   ]
  },
  {
   "cell_type": "code",
   "execution_count": 2,
   "id": "f8bb568d",
   "metadata": {},
   "outputs": [],
   "source": [
    "#calling the file \n",
    "csvpath= os.path.join(\"Resources\", \"cities.csv\")\n",
    "cities= pd.read_csv(csvpath)"
   ]
  },
  {
   "cell_type": "code",
   "execution_count": 3,
   "id": "89a06759",
   "metadata": {},
   "outputs": [],
   "source": [
    "#Exporting to HTML \n",
    "cities.to_html(\"data.html\", index= False, classes= [\"table\",\"table-striped\", \"table-hover\"])"
   ]
  },
  {
   "cell_type": "code",
   "execution_count": null,
   "id": "40cceea5",
   "metadata": {},
   "outputs": [],
   "source": []
  }
 ],
 "metadata": {
  "kernelspec": {
   "display_name": "Python 3 (ipykernel)",
   "language": "python",
   "name": "python3"
  },
  "language_info": {
   "codemirror_mode": {
    "name": "ipython",
    "version": 3
   },
   "file_extension": ".py",
   "mimetype": "text/x-python",
   "name": "python",
   "nbconvert_exporter": "python",
   "pygments_lexer": "ipython3",
   "version": "3.9.7"
  }
 },
 "nbformat": 4,
 "nbformat_minor": 5
}
